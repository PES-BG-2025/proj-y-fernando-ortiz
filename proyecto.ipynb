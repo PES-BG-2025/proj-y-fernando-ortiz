{
 "cells": [
  {
   "cell_type": "code",
   "execution_count": null,
   "id": "ed65dbfc",
   "metadata": {},
   "outputs": [
    {
     "name": "stdout",
     "output_type": "stream",
     "text": [
      "9\n"
     ]
    }
   ],
   "source": [
    "import sys, random\n",
    "import numpy as np\n",
    "import matplotlib.pyplot as plt"
   ]
  },
  {
   "cell_type": "code",
   "execution_count": null,
   "id": "bb2cee10",
   "metadata": {},
   "outputs": [],
   "source": [
    "### Parámetros\n",
    "\n",
    "n_rondas = 100\n",
    "\n",
    "# Pagos\n",
    "socios = 3\n",
    "aprovechado = 5\n",
    "traidores = 1\n",
    "tonto = 0\n",
    "\n",
    "# Extras\n",
    "ruido = 0.0 # probabilidad de voltear acción elegida. Ingresar valores entre [0, 1]\n",
    "semilla = 42 # para funciones con aleatoriedad\n",
    "\n",
    "# Acciones\n",
    "C = \"C\" # cooperar\n",
    "T = \"T\" # traicionar\n",
    "acciones = (C, T)"
   ]
  },
  {
   "cell_type": "code",
   "execution_count": null,
   "id": "81c8fdbd",
   "metadata": {},
   "outputs": [],
   "source": [
    "# Matriz / Función de PAGOS\n",
    "\n",
    "PAGOS = {\n",
    "        (C, C): (socios, socios),\n",
    "        (C, T): (tonto, aprovechado),\n",
    "        (T, C): (aprovechado, tonto),\n",
    "        (T, T): (traidores, traidores)}\n",
    "\n",
    "def pago_ronda(a_i, a_j, pagos = PAGOS):\n",
    "    #Devuelve (pago_i, pago_j) según las acciones de la ronda\n",
    "\n",
    "    # Por ejemplo:\n",
    "    # pago_ronda(\"C\", \"C\") = (3, 3)\n",
    "    # pago_ronda(\"C\", \"T\") = (0, 5)\n",
    "\n",
    "    return pagos[(a_i, a_j)]"
   ]
  },
  {
   "cell_type": "code",
   "execution_count": null,
   "id": "3a388f86",
   "metadata": {},
   "outputs": [],
   "source": [
    "class Estrategia:\n",
    "    nombre = \"base\"\n",
    "    def reiniciar(self): # Reinicia el \"tablero\" del juego\n",
    "        return None\n",
    "\n",
    "    def decidir(self, mi_historial, historial_rival):\n",
    "        raise NotImplementedError(\"Implementa decidir() en la subclase.\")\n",
    "\n",
    "# 10 estrategias, 10 jugadores:\n",
    "class OjoPorOjo(Estrategia):\n",
    "    nombre = \"Ojo por ojo\"\n",
    "    def decidir(self, mi_historial, historial_rival):\n",
    "        # Primera ronda coopera, luego copia la última decisión del rival\n",
    "        if len(historial_rival) == 0:\n",
    "            return C\n",
    "        else:\n",
    "            return historial_rival[-1]\n",
    "\n",
    "class SiempreCooperar(Estrategia):\n",
    "    nombre = \"Siempre cooperar\"\n",
    "    def decidir(self, mi_historial, historial_rival):\n",
    "        return C\n",
    "\n",
    "class SiempreTraicionar(Estrategia):\n",
    "    nombre = \"Siempre traicionar\"\n",
    "    def decidir(self, mi_historial, historial_rival):\n",
    "        return T\n",
    "    \n",
    "class Aleatorio(Estrategia):\n",
    "    nombre = \"Aleatorio\"\n",
    "    def decidir(self, mi_historial, historial_rival):\n",
    "        r = random.random()\n",
    "        if r <= 0.50:\n",
    "            return C\n",
    "        else:\n",
    "            return T\n",
    "        \n",
    "class Vengativo(Estrategia):\n",
    "    nombre = \"Vengativo\"\n",
    "    def decidir(self, mi_historial, historial_rival):\n",
    "        if len(historial_rival) == 0:\n",
    "            return C\n",
    "        \n",
    "        conteo_traiciones = 0\n",
    "        for i in range(n_rondas):\n",
    "            if historial_rival[i] == T:\n",
    "                conteo_traiciones = conteo_traiciones + 1\n",
    "        if conteo_traiciones > 0:\n",
    "            return T\n",
    "        else:\n",
    "            return C"
   ]
  },
  {
   "cell_type": "code",
   "execution_count": 1,
   "id": "eb89b854",
   "metadata": {},
   "outputs": [],
   "source": [
    "# Jugadas con opción de ruido de comunicación\n",
    "\n",
    "def aplicar_ruido(accion, prob, rng):\n",
    "    # Con una probabilidad elegida (5.0%, por ejemplo), el jugador escoge la acción contraria a la que normalmente su estrategia le dicta.\n",
    "    # Objetivo: simular mejor el mundo real en que, por problemas de comunicación, una acción se puede malinterpretar. Analizar cómo se\n",
    "    # comportan estrategias en ambientes con imperfección.\n",
    "    \n",
    "    prob = float(prob)\n",
    "    if prob == 0.0:\n",
    "        return accion\n",
    "\n",
    "    # Voltea decisión con probabilidad p\n",
    "    return (C if accion == T else T) if rng.random() < prob else accion"
   ]
  }
 ],
 "metadata": {
  "kernelspec": {
   "display_name": "teoria-juegos",
   "language": "python",
   "name": "python3"
  },
  "language_info": {
   "codemirror_mode": {
    "name": "ipython",
    "version": 3
   },
   "file_extension": ".py",
   "mimetype": "text/x-python",
   "name": "python",
   "nbconvert_exporter": "python",
   "pygments_lexer": "ipython3",
   "version": "3.11.13"
  }
 },
 "nbformat": 4,
 "nbformat_minor": 5
}
