{
 "cells": [
  {
   "cell_type": "code",
   "execution_count": null,
   "id": "ed65dbfc",
   "metadata": {},
   "outputs": [
    {
     "name": "stdout",
     "output_type": "stream",
     "text": [
      "9\n"
     ]
    }
   ],
   "source": [
    "import sys, random\n",
    "import numpy as np\n",
    "import matplotlib.pyplot as plt"
   ]
  },
  {
   "cell_type": "code",
   "execution_count": null,
   "id": "bb2cee10",
   "metadata": {},
   "outputs": [],
   "source": [
    "### Parámetros\n",
    "\n",
    "n_rondas = 100\n",
    "\n",
    "# Pagos\n",
    "socios = 3\n",
    "aprovechado = 5\n",
    "traidores = 1\n",
    "tonto = 0\n",
    "\n",
    "# Extras\n",
    "ruido = 0.0 # probabilidad de voltear acción elegida. Ingresar valores entre [0, 1]\n",
    "semilla = 42 # para funciones con aleatoriedad\n",
    "\n",
    "# Acciones\n",
    "C = \"C\" # cooperar\n",
    "T = \"T\" # traicionar\n",
    "acciones = (C, T)"
   ]
  },
  {
   "cell_type": "code",
   "execution_count": null,
   "id": "81c8fdbd",
   "metadata": {},
   "outputs": [],
   "source": [
    "# Matriz / Función de PAGOS\n",
    "\n",
    "PAGOS = {\n",
    "        (C, C): (socios, socios),\n",
    "        (C, T): (tonto, aprovechado),\n",
    "        (T, C): (aprovechado, tonto),\n",
    "        (T, T): (traidores, traidores)}\n",
    "\n",
    "def pago_ronda(a_i, a_j, pagos = PAGOS):\n",
    "    #Devuelve (pago_i, pago_j) según las acciones de la ronda\n",
    "\n",
    "    # Por ejemplo:\n",
    "    # pago_ronda(\"C\", \"C\") = (3, 3)\n",
    "    # pago_ronda(\"C\", \"T\") = (0, 5)\n",
    "\n",
    "    return pagos[(a_i, a_j)]"
   ]
  }
 ],
 "metadata": {
  "kernelspec": {
   "display_name": "teoria-juegos",
   "language": "python",
   "name": "python3"
  },
  "language_info": {
   "codemirror_mode": {
    "name": "ipython",
    "version": 3
   },
   "file_extension": ".py",
   "mimetype": "text/x-python",
   "name": "python",
   "nbconvert_exporter": "python",
   "pygments_lexer": "ipython3",
   "version": "3.11.13"
  }
 },
 "nbformat": 4,
 "nbformat_minor": 5
}
